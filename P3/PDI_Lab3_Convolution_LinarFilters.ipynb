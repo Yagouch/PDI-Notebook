{
  "nbformat": 4,
  "nbformat_minor": 0,
  "metadata": {
    "colab": {
      "name": "PDI_Lab3_Convolution_LinarFilters.ipynb",
      "provenance": [],
      "collapsed_sections": []
    },
    "kernelspec": {
      "name": "python3",
      "display_name": "Python 3"
    },
    "language_info": {
      "name": "python"
    }
  },
  "cells": [
    {
      "cell_type": "markdown",
      "metadata": {
        "id": "rwqDzffZbSZI"
      },
      "source": [
        "# **Procesado Digital de Imagen**\n",
        "\n",
        "## Lab 3: Convolución y Filtros Lineales\n",
        "\n",
        "2021 - Veronica Vilaplana - [GPI @ IDEAI](https://imatge.upc.edu/web/) Research group\n",
        "\n",
        "-----------------"
      ]
    },
    {
      "cell_type": "markdown",
      "metadata": {
        "id": "HADD98vEqhKX"
      },
      "source": [
        "En esta práctica veremos cómo crear y utilizar filtros lineales y estudiaremos dos ejemplos de aplicación: eliminación de ruido y detección de contornos\n",
        "\n",
        "-----------------"
      ]
    },
    {
      "cell_type": "code",
      "metadata": {
        "id": "mbdQn6WzL3-p"
      },
      "source": [
        "import numpy as np\n",
        "from matplotlib import pyplot as plt\n",
        "import plotly.express as px\n",
        "import plotly.graph_objects as go\n",
        "\n",
        "from skimage.io import imread, imshow\n",
        "from skimage import transform as sktf\n",
        "from skimage import data\n",
        "\n",
        "#from skimage import io as skio"
      ],
      "execution_count": null,
      "outputs": []
    },
    {
      "cell_type": "markdown",
      "metadata": {
        "id": "AU5sTRMPqqdW"
      },
      "source": [
        "Definimos funciones para visualizar imágenes"
      ]
    },
    {
      "cell_type": "code",
      "metadata": {
        "id": "1vUzZDImqxUF"
      },
      "source": [
        "def display_image(img, title='', size=None):\n",
        "  plt.gray()\n",
        "  h = plt.imshow(img, interpolation='none')\n",
        "  if size:\n",
        "    dpi = h.figure.get_dpi()/size\n",
        "    h.figure.set_figwidth(img.shape[1] / dpi)\n",
        "    h.figure.set_figheight(img.shape[0] / dpi)\n",
        "    h.figure.canvas.resize(img.shape[1] + 1, img.shape[0] + 1)\n",
        "    h.axes.set_position([0, 0, 1, 1])\n",
        "    h.axes.set_xlim(-1, img.shape[1])\n",
        "    h.axes.set_ylim(img.shape[0], -1)\n",
        "  plt.grid(False)\n",
        "  plt.title(title)  \n",
        "  plt.show()\n"
      ],
      "execution_count": null,
      "outputs": []
    },
    {
      "cell_type": "markdown",
      "metadata": {
        "id": "ga6XsXACL8ZX"
      },
      "source": [
        "Carga la imagen `lena.bmp` en Colab.\n",
        "Leemos y visualizamos la imagen para verificar que se ha cargado correctamente."
      ]
    },
    {
      "cell_type": "code",
      "metadata": {
        "id": "qH-igwCirMSb"
      },
      "source": [
        "# Read the file from notebook disk\n",
        "lena = imread('lena.bmp')\n",
        "display_image(lena, size=1)"
      ],
      "execution_count": null,
      "outputs": []
    },
    {
      "cell_type": "markdown",
      "metadata": {
        "id": "i82nRBjAtQTL"
      },
      "source": [
        "##1. Convolución. Respuesta al impulso\n",
        "La función `convolve2d`de la librería `scipy.signal` realiza la convolución 2D de dos matrices.\n",
        "\n",
        "En primer lugar vamos a definir el kernel de convolución como un array 2D numpy.\n",
        "Creamos la respuesta impulsional de un filtro de promedio de tamaño 3x3 y filtramos la imagen."
      ]
    },
    {
      "cell_type": "code",
      "metadata": {
        "id": "gE3cOVEmtVf3"
      },
      "source": [
        "from scipy import signal\n",
        "\n",
        "filt1 = np.ones([3, 3])\n",
        "filt1 = filt1 / 9\n",
        "# type of data\n",
        "print(filt1.dtype)\n",
        "print(filt1)"
      ],
      "execution_count": null,
      "outputs": []
    },
    {
      "cell_type": "code",
      "metadata": {
        "id": "MUziBWi06t77"
      },
      "source": [
        "lena_filt1 = signal.convolve2d(lena, filt1)\n",
        "display_image(lena_filt1)"
      ],
      "execution_count": null,
      "outputs": []
    },
    {
      "cell_type": "markdown",
      "metadata": {
        "id": "JAUe-P1G-DSC"
      },
      "source": [
        "Observa los tipos de dato del kernel, la imagen original y del resultado de la convolución\n",
        "Al calcular la convolución con un kernel con valores tipo float64, el resultado es tipo float64 también."
      ]
    },
    {
      "cell_type": "code",
      "metadata": {
        "id": "dGhh7EdK-NG-"
      },
      "source": [
        "print(lena.dtype)\n",
        "print(filt1.dtype)\n",
        "print(lena_filt1.dtype)"
      ],
      "execution_count": null,
      "outputs": []
    },
    {
      "cell_type": "markdown",
      "metadata": {
        "id": "D7YWb6evyiD8"
      },
      "source": [
        "Observa el tamaño de la imagen original, el tamaño del kernel y el tamaño del resultado de la convolución.\n",
        "\n",
        "Recuerda que la convolución de una matriz de tamaño longitud $M_1 \\times N_1$ con otra secuencia de longitud $M_2 \\times N_2$ es una matriz de tamaño $(M_1 + M_2 - 1) \\times (N_1 + N_2 - 1)$\n"
      ]
    },
    {
      "cell_type": "code",
      "metadata": {
        "id": "hx4G6i2tyCEn"
      },
      "source": [
        "print(lena.shape)\n",
        "print(filt1.shape)\n",
        "print(lena_filt1.shape)"
      ],
      "execution_count": null,
      "outputs": []
    },
    {
      "cell_type": "markdown",
      "metadata": {
        "id": "1tHH4wVP0qVY"
      },
      "source": [
        "Escribe los comandos necesarios para generar filtros de promedio de tamaño 7 (filt2) y de tamaño 11 (filt3). Filtra la imagen `lena` con estos filtros y comprueba el tamaño de la imagen filtrada. "
      ]
    },
    {
      "cell_type": "code",
      "metadata": {
        "id": "kzB-7cyq8VJ_"
      },
      "source": [
        "# write your code here"
      ],
      "execution_count": null,
      "outputs": []
    },
    {
      "cell_type": "markdown",
      "metadata": {
        "id": "XFt5l_4C96Va"
      },
      "source": [
        "<font color='blue'>Pregunta: \n",
        "Relaciona el tamaño de las imágenes de salida con el tamaño de la imagen de entrada\n",
        "</font>\n",
        "\n",
        "---\n",
        "<font color='red'>Respuesta: \n",
        "\n",
        "</font>\n"
      ]
    },
    {
      "cell_type": "markdown",
      "metadata": {
        "id": "RQKLBCRB2Q9_"
      },
      "source": [
        "<font color='blue'>Pregunta: \n",
        "Describe el efecto del filtrado para cada uno de los filtros\n",
        "</font>\n",
        "\n",
        "---\n",
        "<font color='red'>Respuesta: \n",
        "\n",
        "</font>\n"
      ]
    },
    {
      "cell_type": "markdown",
      "metadata": {
        "id": "LF7ndbpI3WPK"
      },
      "source": [
        "<font color='blue'>Pregunta: \n",
        "Observa y explica el efecto de la convolución en los bordes de la imagen. \n",
        "</font>\n",
        "\n",
        "---\n",
        "<font color='red'>Respuesta: \n",
        "\n",
        "</font>\n"
      ]
    },
    {
      "cell_type": "markdown",
      "metadata": {
        "id": "DqbdhL763lrj"
      },
      "source": [
        "Si queremos que la imagen resultado de la convolución tenga el mismo tamaño que la imagen de entrada, podemos utilizar un parámetro de la función `convolve2d`\n",
        "\n",
        "`convolve2d(original_image, impulse_response, mode='same')`\n",
        "\n",
        "Aquí el parámetro `same` indica que la imagen de salida se recorta (descartando los bordes) para tener el mismo tamaño que la entrada.\n",
        "\n",
        "Pero el tipo de dato sigue siendo float64, aunque los valores no estan en el rango $[0,1]$"
      ]
    },
    {
      "cell_type": "code",
      "metadata": {
        "id": "TywdkwNB9LyH"
      },
      "source": [
        "lena_filt1b = signal.convolve2d(lena, filt1,'same')\n",
        "display_image(lena_filt1b)\n",
        "print('output shape=',lena_filt1b.shape)\n",
        "print('output type=',lena_filt1b.dtype)\n",
        "\n",
        "print('Min value:',lena_filt1b.min())\n",
        "print('Max value:',lena_filt1b.max())\n"
      ],
      "execution_count": null,
      "outputs": []
    },
    {
      "cell_type": "markdown",
      "metadata": {
        "id": "k3sKDpBe_ifU"
      },
      "source": [
        "Una alternativa para calcular la convolución de una imagen con un kernel, donde la salida es una imagen del mismo tamaño que la imagen de entrada, y tiene además el mismo tipo de dato, es utilizar la función `convolve` de la librería *Multidimensional Image Processing* de scipy (`scipy.ndimage`)"
      ]
    },
    {
      "cell_type": "code",
      "metadata": {
        "id": "WrgW8zPD4YQS"
      },
      "source": [
        "from scipy import ndimage\n",
        "lena_filt1c = ndimage.convolve(lena, filt1)\n",
        "display_image(lena_filt1c)\n",
        "print('output shape=',lena_filt1c.shape)\n",
        "print('output type=',lena_filt1c.dtype)"
      ],
      "execution_count": null,
      "outputs": []
    },
    {
      "cell_type": "markdown",
      "metadata": {
        "id": "dn6oKJUQtVof"
      },
      "source": [
        "##2. Filtros lineales\n",
        "\n",
        "En el resto de la práctica trabajaremos con la librería Scikit-image, que tiene implementado un conjunto de filtros predefinidos. Puedes consultar los filtros disponibles aquí: https://scikit-image.org/docs/0.15.x/api/skimage.filters.html\n",
        "\n",
        "En caso de querer filtrar la imagen con un kernel que no está implementado en la librería, siempre es posible definir el kernel como un nparray y utilizar la función `convolve` de `scipy.ndimage`, como en el ejemplo anterior.\n",
        "\n",
        "Veamos algunos ejemplos de filtros."
      ]
    },
    {
      "cell_type": "markdown",
      "metadata": {
        "id": "hFlBedoNL1p2"
      },
      "source": [
        "####Filtro de promedio espacial\n",
        "\n",
        "Es la alternativa de sckimage para los filtros de promedio espacial que aplicamos anteriormente con `convolve`.\n",
        "\n",
        "`rank.mean(image, footprint)`\n",
        "\n",
        "`footprint`: es la vecindad a considerar para calcular el promedio, expresado como ndarray con valores 0 o 1 (se calcula el promedio de los píxeles dentro de la vecindad). En este caso no hay que dar los valores del kernel, simplemente indicar con una matriz de 1 la extensión del kernel."
      ]
    },
    {
      "cell_type": "code",
      "metadata": {
        "id": "sc5OM6OiM0q-"
      },
      "source": [
        "from skimage import filters\n",
        "\n",
        "footprint = np.ones([7,7])\n",
        "lena_ave3 = filters.rank.mean(lena,footprint)\n",
        "display_image(lena_ave3)\n",
        "print(lena_ave3.shape)\n",
        "print(lena_ave3.dtype)"
      ],
      "execution_count": null,
      "outputs": []
    },
    {
      "cell_type": "markdown",
      "metadata": {
        "id": "95BZ-MDK3Fzi"
      },
      "source": [
        "#### Filtro Gaussiano\n",
        "Un filtro paso-bajo implementado en scikit-image es el filtro Gaussiano. El kernel es una aproximación de una función Gaussiana. Los principales parámetros son `sigma`, la desviación estandard de la gaussiana, y `truncate`, que define con cuantas desviaciones estandard truncar el filtro (define en definitiva el tamaño del kernel).\n"
      ]
    },
    {
      "cell_type": "code",
      "metadata": {
        "id": "t28Ia7fb3IgJ"
      },
      "source": [
        "from skimage import filters\n",
        "\n",
        "lena_gaus = filters.gaussian(lena,sigma=1, truncate=2)\n",
        "display_image(lena_gaus)\n",
        "print(lena_gaus.dtype)\n",
        "print(lena_gaus.shape)"
      ],
      "execution_count": null,
      "outputs": []
    },
    {
      "cell_type": "markdown",
      "metadata": {
        "id": "3ft-zUFyGMOt"
      },
      "source": [
        "<font color='blue'>Pregunta: \n",
        "Prueba diferentes valores de `sigma`. Comenta el efecto del filtrado. \n",
        "</font>\n",
        "\n",
        "---\n",
        "<font color='red'>Respuesta: \n",
        "\n",
        "</font>"
      ]
    },
    {
      "cell_type": "markdown",
      "metadata": {
        "id": "TlvZ7TyxML83"
      },
      "source": [
        "####Filtro Laplaciano\n",
        "\n",
        "Uno de los filtros paso-alto de `scikit-image.filters` es el Laplaciano. El parámetro `ksize` define el tamaño del filtro ($ksize \\times ksize$).\n"
      ]
    },
    {
      "cell_type": "code",
      "metadata": {
        "id": "f8ZRNO1TUnYl"
      },
      "source": [
        "from skimage import filters\n",
        "\n",
        "lena_lap = filters.laplace(lena,ksize=3)\n",
        "display_image(lena_lap)\n",
        "print(lena_lap.dtype)\n",
        "print(lena_lap.shape)"
      ],
      "execution_count": null,
      "outputs": []
    },
    {
      "cell_type": "markdown",
      "metadata": {
        "id": "ItB7YFDtUpUz"
      },
      "source": [
        "<font color='blue'>Pregunta: \n",
        "Comenta el efecto del filtrado. \n",
        "</font>\n",
        "\n",
        "---\n",
        "<font color='red'>Respuesta: \n",
        "\n",
        "</font>"
      ]
    },
    {
      "cell_type": "markdown",
      "metadata": {
        "id": "youvJPu2MN46"
      },
      "source": [
        "####Filtros de gradiente\n",
        "\n",
        "En la librería `filters` encontramos también otros filtros resaltadores de contornos que aproximan la primera derivada en dirección horizontal y vertical, como los filtros de Sobel y Prewit.\n",
        "Por ejemplo, para Sobel encontramos los filtros `sobel_h` y `sobel_v`."
      ]
    },
    {
      "cell_type": "code",
      "metadata": {
        "id": "pHeFIQWR2Sw-"
      },
      "source": [
        "lena_sobh = filters.sobel_h(lena)\n",
        "display_image(lena_sobh)\n",
        "lena_sobv = filters.sobel_v(lena)\n",
        "display_image(lena_sobv)\n",
        "\n"
      ],
      "execution_count": null,
      "outputs": []
    },
    {
      "cell_type": "markdown",
      "metadata": {
        "id": "add1ohWhhnXV"
      },
      "source": [
        "<font color='blue'>Pregunta: \n",
        "Explica qué hace cada uno de estos dos filtros (`sobel_h` y `sobel_v`). Observa el tipo de dato y los valores máximo y mínimo del resultado (escribe los comandos necesarios)</font>\n",
        "\n",
        "---\n",
        "<font color='red'>Respuesta: \n",
        "\n",
        "</font>"
      ]
    },
    {
      "cell_type": "code",
      "metadata": {
        "id": "9O5eiNf_99H3"
      },
      "source": [
        "# your code here\n"
      ],
      "execution_count": null,
      "outputs": []
    },
    {
      "cell_type": "markdown",
      "metadata": {
        "id": "Q3oivyyOiW8N"
      },
      "source": [
        "##3. Eliminación de ruido\n",
        "\n",
        "En este apartado utilizaremos filtros de promedio para eliminar el ruido de una iamgen"
      ]
    },
    {
      "cell_type": "markdown",
      "metadata": {
        "id": "yPyDZKSaiwVP"
      },
      "source": [
        "Cargamos a Colab y leemos la imagen `flor_ori.bmp`, le agregaremos ruido Gaussiano de media 0 y varianza 0.01"
      ]
    },
    {
      "cell_type": "code",
      "metadata": {
        "id": "dylNtdLMjSO6"
      },
      "source": [
        "from skimage import util, img_as_float\n",
        "\n",
        "flor = imread('flor_ori.bmp')\n",
        "display_image(flor, size=1)\n",
        "print('original type:',flor.dtype)\n",
        "print('original range:', flor.min(), flor.max())\n",
        "\n",
        "#first, convert image data type from uint8 to float with values in [0,1]\n",
        "florf = img_as_float(flor)\n",
        "print('converted image type:',florf.dtype)\n",
        "print('converted image range:', florf.min(), florf.max())\n",
        "\n",
        "flor_noise = util.random_noise(florf, mode='gaussian', mean=0, var=0.01)\n",
        "display_image(flor_noise, size=1)\n",
        "\n",
        "print('noisy image type:',flor_noise.dtype)\n",
        "print('noisy image range:', flor_noise.min(), flor_noise.max())"
      ],
      "execution_count": null,
      "outputs": []
    },
    {
      "cell_type": "markdown",
      "metadata": {
        "id": "h3Fjm3XrjTll"
      },
      "source": [
        "A continuación, escribe los comandos necesarios para filtrar la imagen ruidosa con filtros promediadores de diferentes tamaños (al menos tres filtros). Visualiza las imágenes filtradas"
      ]
    },
    {
      "cell_type": "markdown",
      "metadata": {
        "id": "34v3sUYOjvPg"
      },
      "source": [
        "<font color='blue'>Pregunta: \n",
        "Compara la imagen original y las imágenes filtradas, y comenta el resultado del filtrado. Cuál de los filtros utilizados consideras que es el mejor?\n",
        "</font>\n",
        "\n",
        "---\n",
        "<font color='red'>Respuesta: \n",
        "\n",
        "</font>"
      ]
    },
    {
      "cell_type": "markdown",
      "metadata": {
        "id": "2j8k7BWPibHc"
      },
      "source": [
        "##4. Detección de contornos\n",
        "Veamos ahora cómo utilizar filtros lineales para detectar contornos.\n",
        "\n",
        "Carga en Colab y lee la imagen `circuit.bmp`"
      ]
    },
    {
      "cell_type": "code",
      "metadata": {
        "id": "k9Tsi6Q8iqJz"
      },
      "source": [
        "circ = imread('circuit.bmp')\n",
        "display_image(circ)"
      ],
      "execution_count": null,
      "outputs": []
    },
    {
      "cell_type": "markdown",
      "metadata": {
        "id": "jLh6ZZfnqUHl"
      },
      "source": [
        "A continuación, escribe los comandos necesarios para aplicar a esta imagen los filtros de Sobel para realzar contornos horizontales y verticales.\n",
        "\n",
        "Los pasos necesarios son:\n",
        "\n",
        "1. Calcular gradientes horizontal y vertical\n",
        "2. Combinar el resultado de ambos filtros según la siguiente expresión:\n",
        "\n",
        "$ \\nabla f = | g_x | + | g_y |$\n",
        "\n",
        "Utiliza la función `abs` para calcular el valor absoluto de cada imagen filtrada.\n",
        "\n",
        "3. Binarizar el resultado. \n",
        "Para esto puedes utilizar la siguiente expresión, donde `tresh` es el umbral elegido. \n",
        "\n",
        "`circ_bin = circ_sob > thres`\n",
        "\n",
        "`display_image(circ_bin)`\n",
        "\n",
        "Prueba diferentes valores hasta encontrar el que consideres más adecuado.\n"
      ]
    },
    {
      "cell_type": "markdown",
      "metadata": {
        "id": "UkDFHkLVtug9"
      },
      "source": [
        "Nota: para obtener la imagen combinada también podrías utilizar directmente la función `filters.sobel`, que calcula la magnitud del gradiente, según la expresión <font color='red'>(pero no la utilizaremos en esta práctica, no la uses en este ejercicio) </font>\n",
        "\n",
        "\n",
        "$ \\nabla f = \\sqrt {(g_x)^2  + (g_y)^2}$"
      ]
    },
    {
      "cell_type": "code",
      "metadata": {
        "id": "w9VTnI1swJt6"
      },
      "source": [
        "# Your code here...\n",
        "\n",
        "\n"
      ],
      "execution_count": null,
      "outputs": []
    },
    {
      "cell_type": "markdown",
      "metadata": {
        "id": "-yOgi6y-wMQu"
      },
      "source": [
        "<font color='blue'>Pregunta: \n",
        "Comenta a continuación la calidad de los resultados obtenidos y si has tenido problemas pra encontrar un umbral adecuado.\n",
        "</font>\n",
        "\n",
        "---\n",
        "<font color='red'>Respuesta: \n",
        "\n",
        "</font>"
      ]
    }
  ]
}