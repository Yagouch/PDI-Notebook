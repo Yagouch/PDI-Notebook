{
  "nbformat": 4,
  "nbformat_minor": 0,
  "metadata": {
    "colab": {
      "provenance": [],
      "collapsed_sections": []
    },
    "kernelspec": {
      "name": "python3",
      "display_name": "Python 3"
    },
    "accelerator": "GPU"
  },
  "cells": [
    {
      "cell_type": "markdown",
      "metadata": {
        "id": "UqKQzlKhh1Cf"
      },
      "source": [
        "# **Procesado Digital de Imagen**\n",
        "\n",
        "## Lab 4: DFT y Filtros Lineales\n",
        "\n",
        "2021 - Veronica Vilaplana - [GPI @ IDEAI](https://imatge.upc.edu/web/) Research group\n",
        "\n",
        "-----------------"
      ]
    },
    {
      "cell_type": "markdown",
      "metadata": {
        "id": "XftYFdJYfg2z"
      },
      "source": [
        "En esta práctica se estudian las herramientas para el análisis de imagen en el dominio espacio-frecuencia. Analizaremos el contenido espectral de diferentes imágenes, y veremos los efectos del diezmado y la interpolación."
      ]
    },
    {
      "cell_type": "markdown",
      "metadata": {
        "id": "qsf_JIRdaXT1"
      },
      "source": [
        "En primer lugar instalaremos e importaremos las librerías necesarias (es posible que tengas que reiniciar el entorno de trabajo posteriormente)."
      ]
    },
    {
      "cell_type": "code",
      "metadata": {
        "id": "nk0uL7qlXdip"
      },
      "source": [
        "# check if this is necessary\n",
        "!pip install scikit-image pillow plotly"
      ],
      "execution_count": null,
      "outputs": []
    },
    {
      "cell_type": "code",
      "metadata": {
        "id": "f8oYFxtBdqYz"
      },
      "source": [
        "from skimage import io as skio\n",
        "from skimage import transform as sktf\n",
        "import numpy as np\n",
        "import matplotlib.pyplot as plt\n",
        "import plotly.express as px\n",
        "import plotly.graph_objects as go"
      ],
      "execution_count": null,
      "outputs": []
    },
    {
      "cell_type": "markdown",
      "metadata": {
        "id": "0RkEHaZpTu5Y"
      },
      "source": [
        "Definimos funciones para visualizar imágenes y sus transformadas de Fourier."
      ]
    },
    {
      "cell_type": "code",
      "metadata": {
        "id": "ulNlUPl2TT5S"
      },
      "source": [
        "def display_image(img, title='', size=None):\n",
        "  #plt.subplot(1,2,1)\n",
        "  plt.gray()\n",
        "  h = plt.imshow(img, interpolation='none')\n",
        "  if size:\n",
        "    dpi = h.figure.get_dpi()/size\n",
        "    h.figure.set_figwidth(img.shape[1] / dpi)\n",
        "    h.figure.set_figheight(img.shape[0] / dpi)\n",
        "    h.figure.canvas.resize(img.shape[1] + 1, img.shape[0] + 1)\n",
        "    h.axes.set_position([0, 0, 1, 1])\n",
        "    h.axes.set_xlim(-1, img.shape[1])\n",
        "    h.axes.set_ylim(img.shape[0], -1)\n",
        "  plt.grid(False)\n",
        "  plt.title(title)  \n",
        "  plt.show()\n",
        "\n",
        "def display_ft(ft, title=''):\n",
        "  N = ft.shape[0]\n",
        "  x = np.linspace(-0.5, 0.5, N)\n",
        "  y = np.linspace(-0.5, 0.5, N)\n",
        "  X, Y = np.meshgrid(x, y)\n",
        "  fig = go.Figure(data=[go.Surface(z=ft,x=X,y=Y)])\n",
        "  fig.update_layout(title=title)\n",
        "  fig.update_layout(scene = dict(xaxis_title='Fx', yaxis_title='Fy', zaxis_title='FT'))\n",
        "  fig.show()\n",
        "\n",
        "def display_dft(ft, title=''):\n",
        "  fig = go.Figure(data=[go.Surface(z=ft)])\n",
        "  fig.update_layout(title=title)\n",
        "  fig.update_layout(scene = dict(xaxis_title='k', yaxis_title='l', zaxis_title='DFT'))\n",
        "  fig.show()\n"
      ],
      "execution_count": null,
      "outputs": []
    },
    {
      "cell_type": "markdown",
      "metadata": {
        "id": "UZlbYgcmK7n-"
      },
      "source": [
        "Carga las imágenes `test1.bmp`, `bottle3.png` y `boat.pgm` en Colab.\n",
        "Leemos y visualizamos las imágenes para verificar que se han cargado correctamente."
      ]
    },
    {
      "cell_type": "code",
      "metadata": {
        "id": "7IooMXUSTPcL"
      },
      "source": [
        "# Read the files from notebook disk\n",
        "test1 = skio.imread('test1.bmp')\n",
        "img = skio.imread('bottle3.png')\n",
        "\n",
        "display_image(test1, size=1)\n",
        "display_image(img, size=1)\n"
      ],
      "execution_count": null,
      "outputs": []
    },
    {
      "cell_type": "markdown",
      "metadata": {
        "id": "iL15j6lbIDLi"
      },
      "source": [
        "## 1.\tLa Transformada Discreta de Fourier y su representación\n",
        "---\n",
        "\n",
        "\n",
        "La DFT se calcula con la función NumPy fft2.\n",
        "Calculamos y mostramos la transformada de la imagen ima. Aprovecharemos la sensibilidad a mayúsculas y minúsculas Python para denominar los espectros con letras mayúsculas."
      ]
    },
    {
      "cell_type": "code",
      "metadata": {
        "id": "V33kcOGmBoYO"
      },
      "source": [
        "IMG = np.fft.fft2(img)"
      ],
      "execution_count": null,
      "outputs": []
    },
    {
      "cell_type": "markdown",
      "metadata": {
        "id": "P1808AZuIgM4"
      },
      "source": [
        "\n",
        "Mostramos el espectro o módulo de la DFT. Necesitamos mostrar los valores en escala logarítmica. Puedes también probar visualizar el resultado con la escala lineal (es decir, sin el log) para ver la diferencia."
      ]
    },
    {
      "cell_type": "code",
      "metadata": {
        "id": "ZLcZ9gRnDvin"
      },
      "source": [
        "display_image(np.log(1+np.abs(IMG)), title='DFT modulus of IMG', size=1)"
      ],
      "execution_count": null,
      "outputs": []
    },
    {
      "cell_type": "markdown",
      "metadata": {
        "id": "8WCECoEAJnzw"
      },
      "source": [
        "En primer lugar, la componente de contínua (o DC) en el dominio transformado de IMA está en el píxel de la esquina superior izquierda de la la transformada visualizada. Recordemos que es espectro de una señal discreta es periódico de periodo $2\\pi$ en pulsaciones discretas (1 en frecuencia normalizada) y que la DFT representa con N muestras (si N es el número de puntos de la transformada) un periodo del espectro. En 2D, la transformada representa con NxN muestras un periodo del espectro. De hecho, la matriz transformada IMA que hemos calculado contiene sólo las muestras del período fundamental en $[0,2\\pi) x [0,2\\pi)$.\n",
        "\n",
        "Para visualizar transformadas de imagen, se suele situar el origen de frecuencias (componente de continua) en el centro de la imagen. Con ello se aprecia mejor la simetría conjugada. Para ello, empleamos la función fftshift()\n",
        "\n",
        "Por otra parte, como mencionamos anteriormente, al ser tan alto el valor de la componente continua, se enmascara la lectura de la información restante. Se impone por lo tanto el uso de una escala logarítmica sobre la transformada."
      ]
    },
    {
      "cell_type": "code",
      "metadata": {
        "id": "zUuRJmzyKF1i"
      },
      "source": [
        "IMG_mod=np.fft.fftshift(np.log(1+np.abs(IMG)))\n",
        "display_image(IMG_mod, title='Centered DFT modulus of IMG', size=1)"
      ],
      "execution_count": null,
      "outputs": []
    },
    {
      "cell_type": "markdown",
      "metadata": {
        "id": "NoqlQpNjK0uw"
      },
      "source": [
        "<font color='blue'>Pregunta: Relaciona las estructuras que aparecen en el espectro con formas de la imagen original.</font>\n",
        "\n",
        "---\n",
        "<font color='red'>Respuesta: \n",
        "\n",
        "</font> "
      ]
    },
    {
      "cell_type": "markdown",
      "metadata": {
        "id": "xVPFyM9jLHZb"
      },
      "source": [
        "Repite el proceso para generar el módulo de la transformada de la imagen `test1`. Utiliza el espacio inferior para escribir los comandos necesarios. Análogamente al caso anterior, utiliza las mayúsculas para denominar TEST1 a la transformada y TEST1_mod a su módulo. "
      ]
    },
    {
      "cell_type": "code",
      "metadata": {
        "id": "FFHoM4MqvaRc"
      },
      "source": [
        "# Compute and display test1 DFT\n"
      ],
      "execution_count": null,
      "outputs": []
    },
    {
      "cell_type": "markdown",
      "source": [
        "<font color='blue'>Pregunta: Relaciona las estructuras que aparecen en el espectro con formas de la imagen original.</font>\n",
        "\n",
        "---\n",
        "<font color='red'>Respuesta: \n",
        "\n",
        "</font> "
      ],
      "metadata": {
        "id": "SMNS3vCW9Bgk"
      }
    },
    {
      "cell_type": "markdown",
      "metadata": {
        "id": "WrD14L6ckC5f"
      },
      "source": [
        "Repite el proceso anterior para generar el módulo de la transformada de la imagen `boat3`. Utiliza el espacio inferior para escribir los comandos MATLAB necesarios. Análogamente al caso anterior, utiliza las mayúsculas para denominar BOAT a la transformada y BOAT_mod a su módulo"
      ]
    },
    {
      "cell_type": "code",
      "metadata": {
        "id": "otCffg3qmN2t"
      },
      "source": [
        "# Compute and display boat3 DFT"
      ],
      "execution_count": null,
      "outputs": []
    },
    {
      "cell_type": "markdown",
      "metadata": {
        "id": "HAHUY-i3kZ4A"
      },
      "source": [
        "<font color='blue'>Pregunta: Relaciona las estructuras que aparecen en el espectro con formas de la imagen original.</font>\n",
        "\n",
        "---\n",
        "<font color='red'>Respuesta: \n",
        "\n",
        "</font> "
      ]
    },
    {
      "cell_type": "markdown",
      "metadata": {
        "id": "6lDPR0I5pZve"
      },
      "source": [
        "## 2. Diezmado e interpolación\n",
        "\n",
        "### Diezmado y réplicas espectrales\n",
        "---\n",
        "El teorema de Nyquist establece que antes de diezmar o submuestrear una imagen es preciso limitar su ancho de banda a la mitad de la nueva frecuencia de muestreo. De no hacerlo, pueden aparecer problemas de aliasing. No obstante, vamos a diezmar directamente las imágenes y analizar su espectro tras el diezmado.\n",
        "\n",
        "Trabajaremos con la imagen `test1` que utilizamos en el apartado anterior, y con la imagen `bottle3`.\n",
        "Utilizaremos la función [resize](http://scikit-image.org/docs/stable/api/skimage.transform.html#resize) de la librería skimage.\n",
        "Para diezmar la imagen por un factor de 3 haremos lo siguiente.\n",
        "\n",
        "Puedes utilizar el parametro `size`en la función de visualización (`display_image`) para hacer un zoom de la figura replicando píxeles.\n"
      ]
    },
    {
      "cell_type": "code",
      "metadata": {
        "id": "wT43TOMmgxz_"
      },
      "source": [
        "from skimage import transform\n",
        "\n",
        "img_sub = transform.resize(img,np.asarray(img.shape)/3, anti_aliasing=False, mode='constant');\n",
        "display_image(img_sub,title='img resized', size=1)\n",
        "display_image(img_sub,title='img resized and zoomed', size=3)\n",
        "display_image(img, title='img', size=1)\n"
      ],
      "execution_count": null,
      "outputs": []
    },
    {
      "cell_type": "code",
      "metadata": {
        "id": "50jyvxp1CN5a"
      },
      "source": [
        "test1_sub=transform.resize(test1,np.asarray(test1.shape)/3, anti_aliasing=False, mode='constant');\n",
        "display_image(test1_sub, title='test1 resized', size=1)\n",
        "display_image(test1_sub, title='test1 resized and zoomed', size=3)\n",
        "display_image(test1, title='test1', size=1)"
      ],
      "execution_count": null,
      "outputs": []
    },
    {
      "cell_type": "markdown",
      "metadata": {
        "id": "bY-WG7B5rRXz"
      },
      "source": [
        "<font color='blue'>Pregunta: ¿Puedes interpretar los resultados? ¿Aparece algún efecto especial? Intenta explicar el efecto producido al visualizar la versión diezmada por 3 de la imagen `test1`.</font>\n",
        "\n",
        "---\n",
        "<font color='red'>Respuesta: \n",
        "\n",
        "</font>\n"
      ]
    },
    {
      "cell_type": "markdown",
      "metadata": {
        "id": "YXrQ7Xiarfnx"
      },
      "source": [
        "Veamos el espectro de las imágenes antes y después del submuestreo:"
      ]
    },
    {
      "cell_type": "code",
      "metadata": {
        "id": "iSCMgtr9rgn3"
      },
      "source": [
        "IMG_sub_mod = np.fft.fftshift(np.log(1+np.abs(np.fft.fft2(img_sub))))\n",
        "display_image(IMG_mod, title='DFT Modulus IMG', size=1)\n",
        "display_image(IMG_sub_mod, title='DFT Modulus IMG resized', size=1)"
      ],
      "execution_count": null,
      "outputs": []
    },
    {
      "cell_type": "code",
      "metadata": {
        "id": "lIX1C0n7DHDK"
      },
      "source": [
        "TEST1_mod = np.fft.fftshift(np.log(1+np.abs(np.fft.fft2(test1)))) # DELETE\n",
        "TEST1_sub_mod = np.fft.fftshift(np.log(1+np.abs(np.fft.fft2(test1_sub))))\n",
        "display_image(TEST1_mod, title='DFT modululs TEST1', size=1)\n",
        "display_image(TEST1_sub_mod, title='DFT modulus TEST1 resized', size=3)"
      ],
      "execution_count": null,
      "outputs": []
    },
    {
      "cell_type": "markdown",
      "metadata": {
        "id": "xbQhocA9sTZw"
      },
      "source": [
        "De hecho, las transformadas que estamos visualizando representan sólo una parte del espectro de las de las imágenes originales tras el diezmado (recuerda que tanto el espectro como la imagen son periódicos).\n",
        "Vamos a manipular las matrices de la transformada para visualizar varias réplicas espectrales yuxtapuestas de modo de generar el efecto de periodicidad,\n",
        "lo cual nos dará una idea más aproximada del espectro de las imágenes submuestreadas:"
      ]
    },
    {
      "cell_type": "code",
      "metadata": {
        "id": "guRI2XoSZYuP"
      },
      "source": [
        "display_image(IMG_mod, title='DFT modulus IMG', size=1)\n",
        "tmp = np.hstack((IMG_sub_mod,IMG_sub_mod,IMG_sub_mod))\n",
        "IMG_sub_mod_replicas = np.vstack((tmp,tmp,tmp))\n",
        "display_image(IMG_sub_mod_replicas,title='DFT modulus IMG resized (replicas)',size=1)"
      ],
      "execution_count": null,
      "outputs": []
    },
    {
      "cell_type": "code",
      "metadata": {
        "id": "h2Cd5qqUbP1P"
      },
      "source": [
        "display_image(TEST1_mod, title='DFT modulus TEST1', size=1)\n",
        "tmp = np.hstack((TEST1_sub_mod,TEST1_sub_mod,TEST1_sub_mod))\n",
        "TEST1_sub_mod_replicas = np.vstack((tmp,tmp,tmp))\n",
        "display_image(TEST1_sub_mod_replicas,title='DFT modulus TEST1 resized (replicas)',size=1)"
      ],
      "execution_count": null,
      "outputs": []
    },
    {
      "cell_type": "markdown",
      "metadata": {
        "id": "h4u41s0jy04Z"
      },
      "source": [
        "## 3. Filtrado en frecuencia\n",
        "\n",
        "La forma directa de filtrar una imagen es calcular la convolución de la imagen con la respuesta al impulso del filtro, como hicimos en el Laboratorio 3.\n",
        "Otra forma de filtrar una imagen en el dominio de la frecuencia consiste en eliminar algunos coeficientes transformados correspondientes a las componentes frecuenciales que queremos eliminar.\n",
        "\n",
        "Sin embargo, esta técnica de filtrado en frecuencia mediante una máscara de frecuencias no siempre es adecuada. Vamos a explorar esta observación."
      ]
    },
    {
      "cell_type": "markdown",
      "metadata": {
        "id": "u8QH7IfWzbDH"
      },
      "source": [
        "Supongamos que se quieren evitar problemas de aliasing en el diezmado por un factor de 2 de la imagen `test1`.\n",
        "\n",
        "Recordemos los efectos del diezmado sin filtrar.\n"
      ]
    },
    {
      "cell_type": "code",
      "metadata": {
        "id": "OYP_wVtZ5UpL"
      },
      "source": [
        "display_image(test1,title='test1',size=1)\n",
        "test1_sub=transform.resize(test1,np.asarray(test1.shape)/2, anti_aliasing=False, mode='constant');\n",
        "\n",
        "display_image(test1_sub, title='test1 resized', size=2)"
      ],
      "execution_count": null,
      "outputs": []
    },
    {
      "cell_type": "markdown",
      "metadata": {
        "id": "Bu6PNJeq5rEz"
      },
      "source": [
        "Podríamos haber eliminado los coeficientes superiores a la mitad de la nueva frecuencia de muestreo antes del diezmado, empleando una máscara, así:\n",
        "\n",
        "Observa que la transformada TEST1 no está centrada (auqnue sí lo está al hacer el display) \n"
      ]
    },
    {
      "cell_type": "code",
      "metadata": {
        "id": "AGY-JuTg5u13"
      },
      "source": [
        "TEST1 = np.fft.fft2(test1)\n",
        "TEST1_mod = np.fft.fftshift(np.log(1+np.abs(TEST1)))\n",
        "fils = TEST1.shape[0]\n",
        "cols = TEST1.shape[1]\n",
        "\n",
        "print(cols/6)\n",
        "# mask vertical frequencies\n",
        "TEST1[int(1/6*fils):int(5/6*fils)+1,:] = 0;\n",
        "\n",
        "# mask horizontal frequencies\n",
        "TEST1[:,int(1/6*cols):int(5/6*cols)+1] = 0;\n",
        "\n",
        "display_image(TEST1_mod, title='DFT modulus TEST1', size=1)\n",
        "display_image(np.fft.fftshift(np.log(1+np.abs(TEST1))), title='DFT modulus TEST1 filtered', size=1)\n"
      ],
      "execution_count": null,
      "outputs": []
    },
    {
      "cell_type": "markdown",
      "metadata": {
        "id": "oq0PYt0e7Mge"
      },
      "source": [
        "Para ver la versión filtrada de la imagen, debemos aplicar la FFT inversa:\n"
      ]
    },
    {
      "cell_type": "code",
      "metadata": {
        "id": "WhHaC6m37Pmz"
      },
      "source": [
        "test1_filt = 9*np.real(np.fft.ifft2(TEST1))\n",
        "display_image(test1, title='test1', size=1)\n",
        "display_image(test1_filt, title='test1 (filtered)', size=1)"
      ],
      "execution_count": null,
      "outputs": []
    },
    {
      "cell_type": "markdown",
      "metadata": {
        "id": "rBxY8kse7vtH"
      },
      "source": [
        "Comparemos ahora el resultado que se obtiene al realizar el submuestreo de la imagen filtrada con el resultado anterior:"
      ]
    },
    {
      "cell_type": "code",
      "metadata": {
        "id": "pZh6T3Dg7yYg"
      },
      "source": [
        "test1_sub  = transform.resize(test1,     np.asarray(test1.shape)/3,      anti_aliasing=False, mode='constant');\n",
        "test1_sub2 = transform.resize(test1_filt,np.asarray(test1_filt.shape)/3, anti_aliasing=False, mode='constant');\n",
        "\n",
        "display_image(test1_sub,title='test1 downsampled (no filter)', size=1)\n",
        "display_image(test1_sub2,title='test1 downsampled (filtered)', size=1)\n"
      ],
      "execution_count": null,
      "outputs": []
    },
    {
      "cell_type": "markdown",
      "metadata": {
        "id": "KUyV1mZx0qis"
      },
      "source": [
        "<font color='blue'>Pregunta: Comenta las diferencias entre una y otra imagen </font>\n",
        "\n",
        "----\n",
        "<font color='red'>Respuesta:\n",
        "</font>\n"
      ]
    },
    {
      "cell_type": "markdown",
      "metadata": {
        "id": "cViDruCP5vDq"
      },
      "source": [
        "Verás que, esta vez, no se ha producido aliasing. No obstante, esta técnica de filtrado no siempre da los resultados deseados. Vamos a aplicar la misma técnica a la imagen `img`. Y la filtramos como anteriormente hicimos con `test2`:"
      ]
    },
    {
      "cell_type": "code",
      "metadata": {
        "id": "LfVR4lG89miE"
      },
      "source": [
        "IMG = np.fft.fft2(img)\n",
        "IMG_mod = np.fft.fftshift(np.log(1+abs(IMG)))\n",
        "fils = IMG.shape[0]\n",
        "cols = IMG.shape[1]\n",
        "# mask vertical frequencies\n",
        "IMG[int(1/6*fils):int(5/6*fils)+1,:] = 0\n",
        "# mask horizontalal frequencies\n",
        "IMG[:,int(1/6*cols):int(5/6*cols)+1] = 0\n",
        "\n",
        "display_image(IMG_mod, title='DFT modulus IMG', size=1)\n",
        "display_image(np.fft.fftshift(np.log(1+np.abs(IMG))), title='DFT modulus IMG (filtered)', size=1)"
      ],
      "execution_count": null,
      "outputs": []
    },
    {
      "cell_type": "markdown",
      "metadata": {
        "id": "_i2Fm7Lp-TWk"
      },
      "source": [
        "Veamos ahora el resultado del filtrado mediante la FFT inversa:"
      ]
    },
    {
      "cell_type": "code",
      "metadata": {
        "id": "6ioJNcP_-Wkt"
      },
      "source": [
        "img_filt = 9*np.real(np.fft.ifft2(IMG));\n",
        "display_image(img, title='img', size=1)\n",
        "display_image(img_filt, title='img (filtered)', size=1)"
      ],
      "execution_count": null,
      "outputs": []
    },
    {
      "cell_type": "markdown",
      "metadata": {
        "id": "dy6yAeLQ-oYO"
      },
      "source": [
        "<font color='blue'>Pregunta: ¿Observas algún efecto especial en la imagen filtrada? ¿Podrías explicarlo? \n",
        "</font>\n",
        "\n",
        "---\n",
        "<font color='red'>Respuesta: \n",
        "\n",
        "</font>"
      ]
    },
    {
      "cell_type": "markdown",
      "metadata": {
        "id": "wuAc-O9ZiPlW"
      },
      "source": [
        "## 4. Diezmado e interpolación con filtros paso-bajo\n",
        "\n",
        "Evidentemente, los efectos de aliasing que han aparecido al diezmar, podrían haberse evitado empleando filtros más sencillos que la técnica de filtrado en frecuencia que se ha propuesto. Veamos qué hubiera ocurrido con un simple filtrado gaussiano.\n"
      ]
    },
    {
      "cell_type": "markdown",
      "metadata": {
        "id": "uKrk41W22Q-J"
      },
      "source": [
        "Primero diezmamos directamente la imagen `test1`\n"
      ]
    },
    {
      "cell_type": "code",
      "metadata": {
        "id": "sTAmzl0K2NS-"
      },
      "source": [
        "test1_sub  = transform.resize(test1, np.asarray(test1.shape)/3, anti_aliasing=False, mode='constant');"
      ],
      "execution_count": null,
      "outputs": []
    },
    {
      "cell_type": "markdown",
      "metadata": {
        "id": "1UvgQI9N2thX"
      },
      "source": [
        "Y a continuación diezmamos después de filtrar:\n"
      ]
    },
    {
      "cell_type": "code",
      "metadata": {
        "id": "xiz5475U2us0"
      },
      "source": [
        "from skimage import filters\n",
        "\n",
        "sigma = 1\n",
        "window = 5\n",
        "truncate = (((window - 1)/2)-0.5)/sigma\n",
        "test1_filt = filters.gaussian(test1,sigma=sigma,truncate=truncate);\n",
        "test1_sub2 = transform.resize(test1_filt,np.asarray(test1_filt.shape)/3, anti_aliasing=False, mode='constant');"
      ],
      "execution_count": null,
      "outputs": []
    },
    {
      "cell_type": "code",
      "metadata": {
        "id": "zCB07rDj6r_n"
      },
      "source": [
        "display_image(test1,title='test1 (original)', size=1)\n",
        "display_image(test1_sub,title='test1 downsampled (no filter)', size=1)\n",
        "display_image(test1_sub2,title='test1 downsampled (filtered)', size=1)"
      ],
      "execution_count": null,
      "outputs": []
    },
    {
      "cell_type": "markdown",
      "metadata": {
        "id": "IBXGW6f-7HZy"
      },
      "source": [
        "Repetimos para la imagen img"
      ]
    },
    {
      "cell_type": "code",
      "metadata": {
        "id": "SaeOW0Oa7J99"
      },
      "source": [
        "img_sub  = transform.resize(img, np.asarray(img.shape)/3, anti_aliasing=False, mode='constant');\n",
        "img_filt = filters.gaussian(img,sigma=sigma,truncate=truncate);\n",
        "img_sub2 = transform.resize(img_filt,np.asarray(img_filt.shape)/3, anti_aliasing=False, mode='constant');\n"
      ],
      "execution_count": null,
      "outputs": []
    },
    {
      "cell_type": "code",
      "metadata": {
        "id": "oEFilsFa6i95"
      },
      "source": [
        "display_image(img,title='img',size=1)\n",
        "display_image(img_sub, title='img downsampled (no filter)', size=1)\n",
        "display_image(img_sub2, title='img downsampled (filtered)', size=1)"
      ],
      "execution_count": null,
      "outputs": []
    },
    {
      "cell_type": "markdown",
      "metadata": {
        "id": "YvLkILNd8OWs"
      },
      "source": [
        "<font color='blue'>Pregunta: Comenta los resultados \n",
        "</font>\n",
        "\n",
        "---\n",
        "<font color='red'>Respuesta:"
      ]
    },
    {
      "cell_type": "markdown",
      "metadata": {
        "id": "3JGR4uGz8Tx1"
      },
      "source": [
        "## 5. Comparación de un filtro paso-bajo y uno paso-alto \n",
        "\n",
        "Finalmente compararemos el funcionamiento de un filtro paso-bajo y otro paso-alto.\n",
        "\n",
        "Utilizaremos la imagen `boat`\n"
      ]
    },
    {
      "cell_type": "code",
      "metadata": {
        "id": "-fJYFHPuEE8_"
      },
      "source": [
        "img2 = skio.imread('boat.pgm')\n",
        "display_image(img2, size=1)"
      ],
      "execution_count": null,
      "outputs": []
    },
    {
      "cell_type": "markdown",
      "metadata": {
        "id": "9SssUlXb-rJN"
      },
      "source": [
        "Primero generamos la respuesta al impulso del filtro Gaussiano y visualizamos su respuesta frecuencial"
      ]
    },
    {
      "cell_type": "code",
      "metadata": {
        "id": "UfuBS_Bw-mK3"
      },
      "source": [
        "def gaussian_kernel(size=5,sigma=1.0):\n",
        "  a = np.zeros((size, size))\n",
        "  a[int(np.floor(size/2)),int(np.floor(size/2))] = 1\n",
        "  h = filters.gaussian(a, sigma=sigma, mode='constant', cval=0)\n",
        "  return h/np.sum(h)\n",
        "\n",
        "# Define a gaussian kernel (size=5 and sigma=1)\n",
        "h_gau = gaussian_kernel(size=5,sigma=1)\n",
        "print(h_gau)\n",
        "\n",
        "# Visualize its frequency response\n",
        "N = 256\n",
        "H_GAU = np.abs(np.fft.fftshift(np.fft.fft2(h_gau,(N,N))))\n",
        "display_ft(H_GAU)"
      ],
      "execution_count": null,
      "outputs": []
    },
    {
      "cell_type": "markdown",
      "metadata": {
        "id": "tgwnNp11BtHf"
      },
      "source": [
        "Hacemos lo mismo para el filtro laplaciano:"
      ]
    },
    {
      "cell_type": "code",
      "metadata": {
        "id": "2xGRLjN--flH"
      },
      "source": [
        "def laplace_kernel(alpha=0.0):\n",
        "  h = np.zeros((3, 3))\n",
        "  h1    = alpha/(alpha+1); h2 = (1-alpha)/(alpha+1);\n",
        "  h[0,:] = [h1,h2,h1]\n",
        "  h[1,:] = [h2, -4/(alpha+1), h2]\n",
        "  h[2,:] = [h1,h2,h1]\n",
        "  return h\n",
        "\n",
        "# Define a laplacian kernel\n",
        "h_lap = laplace_kernel()\n",
        "print(h_lap)\n",
        "\n",
        "# Visualize its frequency response\n",
        "N = 256\n",
        "H_LAP = np.abs(np.fft.fftshift(np.fft.fft2(h_lap,(N,N))))\n",
        "display_ft(H_LAP)\n"
      ],
      "execution_count": null,
      "outputs": []
    },
    {
      "cell_type": "markdown",
      "metadata": {
        "id": "SyOWzi2jBzzg"
      },
      "source": [
        "Ahora calculamos la convolución 2D entre la imagen y la respuesta al impulso del filtro."
      ]
    },
    {
      "cell_type": "code",
      "metadata": {
        "id": "N6wHDUs3AzoF"
      },
      "source": [
        "import scipy\n",
        "img2_gau = scipy.signal.convolve2d(img2,h_gau,mode='same')\n",
        "img2_lap = scipy.signal.convolve2d(img2,h_lap,mode='same')\n",
        "\n",
        "display_image(img2,size=1, title='Original')\n",
        "display_image(img2_gau,size=1, title='Gaussian filter')\n",
        "display_image(img2_lap,size=1, title='Laplacian filter')"
      ],
      "execution_count": null,
      "outputs": []
    },
    {
      "cell_type": "markdown",
      "metadata": {
        "id": "cO5gRia3-Ey0"
      },
      "source": [
        "<font color='blue'>Pregunta: Comenta y compara las respuestas frecuenciales y el efecto de aplicar ests filtros </font>\n",
        "\n",
        "---\n",
        "<font color='red'>Respuesta:"
      ]
    },
    {
      "cell_type": "markdown",
      "metadata": {
        "id": "oMoV_EzSCNA8"
      },
      "source": [
        "Cuál es el valor medio de las imágenes filtradas? Observa que la función ´display_image´ normaliza la visualización de la imagen entre sus valores mínimo (negro) y máximo (blanco)."
      ]
    },
    {
      "cell_type": "code",
      "metadata": {
        "id": "PvnjIx8vChXM"
      },
      "source": [
        "print('mean value original image = ', np.mean(img2))\n",
        "print('mean value gaussian filtered image = ', np.mean(img2_gau))\n",
        "print('mean value laplacian filtered image = ', np.mean(img2_lap))"
      ],
      "execution_count": null,
      "outputs": []
    },
    {
      "cell_type": "markdown",
      "metadata": {
        "id": "XmrMVnvfCmJV"
      },
      "source": [
        "<font color='blue'> Pregunta: Explica cómo modifica el valor medio de la imagen cada uno de estos filtros.\n",
        "\n",
        "Relaciona el cambio en el valor medio de la imagen con alguna característica espcífica de la respuesta frecuencial o la respuesta al impulso del filtro.</font>\n",
        "\n",
        "----\n",
        "<font color='red'> Respuesta: \n",
        "</font>\n"
      ]
    }
  ]
}